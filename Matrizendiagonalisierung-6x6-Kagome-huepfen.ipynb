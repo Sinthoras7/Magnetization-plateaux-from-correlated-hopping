{
 "cells": [
  {
   "cell_type": "code",
   "execution_count": 3,
   "id": "7fbf7fe7-f833-46a1-b160-bc1056ddbce9",
   "metadata": {},
   "outputs": [],
   "source": [
    "import sympy as sp\n",
    "import numpy as np\n",
    "import numpy.linalg as npla\n",
    "sp.init_printing()\n",
    "\n",
    "from mpl_toolkits.mplot3d import Axes3D\n",
    "import matplotlib.pyplot as plt\n",
    "import matplotlib.cm as cm\n",
    "from matplotlib.ticker import FuncFormatter, MultipleLocator\n",
    "\n",
    "#from ipywidgets import interact\n",
    "# For ducumentation on interact, see:\n",
    "# https://stackoverflow.com/questions/68554501/plotting-a-two-variable-function-with-two-parameters-in-python"
   ]
  },
  {
   "cell_type": "code",
   "execution_count": 4,
   "id": "11907fc0-26a4-415d-bcb5-8cfd518e2577",
   "metadata": {},
   "outputs": [],
   "source": [
    "a, b, V = sp.symbols('a, b, V')"
   ]
  },
  {
   "cell_type": "code",
   "execution_count": 5,
   "id": "1ac042b9-dc0b-431a-9257-0d15d4ec9786",
   "metadata": {},
   "outputs": [],
   "source": [
    "M = sp.Matrix([[V, a, a, b, 0, 0], \n",
    "               [a, V, a, 0, b, 0], \n",
    "               [a, a, V, 0, 0, b], \n",
    "               [b, 0, 0, 0, 0, 0],\n",
    "               [0, b, 0, 0, 0, 0],\n",
    "               [0, 0, b, 0, 0, 0]])"
   ]
  },
  {
   "cell_type": "code",
   "execution_count": 14,
   "id": "d33e87c0-c08f-459d-ae86-21901c4f334b",
   "metadata": {},
   "outputs": [
    {
     "data": {
      "image/png": "[encoded data removed]",
      "text/latex": [
       "$\\displaystyle \\frac{V}{2} - \\frac{a}{2} - \\frac{\\sqrt{V^{2} - 2 V a + a^{2} + 4 b^{2}}}{2}$"
      ],
      "text/plain": [
       "           ________________________\n",
       "          ╱  2            2      2 \n",
       "V   a   ╲╱  V  - 2⋅V⋅a + a  + 4⋅b  \n",
       "─ - ─ - ───────────────────────────\n",
       "2   2                2             "
      ]
     },
     "execution_count": 14,
     "metadata": {},
     "output_type": "execute_result"
    }
   ],
   "source": [
    "M_eigenvalues = M.eigenvals(multiple=False)\n",
    "M_eigenvects = M.eigenvects()\n",
    "M_eigenvects[0][0]"
   ]
  },
  {
   "cell_type": "code",
   "execution_count": 9,
   "id": "8df5d4e7-a2a7-40ba-9f91-d9b83a045121",
   "metadata": {},
   "outputs": [],
   "source": [
    "V_value_list = [0, 0.1, 0.2]\n",
    "'''\n",
    "M_eigenvalues_fixed_V_list = [[a.subs(V, V_value) for a in M_eigenvalues] for V_value in V_value_list]\n",
    "\n",
    "eigenvalues_fixed_V_function_list = [[sp.lambdify((a, b), value_expression, modules='numpy') \n",
    "                                      for value_expression in M_eigenvalues_fixed_V] \n",
    "                                      for M_eigenvalues_fixed_V in M_eigenvalues_fixed_V_list]\n",
    "'''\n",
    "eigenvalues_function_list = [sp.lambdify((a, b, V), M_ev, modules='numpy') for M_ev in M_eigenvalues]\n",
    "\n",
    "matrix_function_list = [sp.lambdify((a, b), M.subs(V, V_value), modules='numpy') for V_value in V_value_list]\n"
   ]
  },
  {
   "cell_type": "code",
   "execution_count": 10,
   "id": "0ea1e6a7-f9e1-4966-9db9-bdca0c715f9a",
   "metadata": {},
   "outputs": [],
   "source": [
    "dom = np.linspace(0, 5, 100)\n",
    "#x, y = np.meshgrid(dom, dom)\n",
    "\n",
    "\n",
    "result = np.array([[npla.eigvalsh(matrix_function_list[0](x, y)) for y in dom] for x in dom])\n",
    "\n",
    "result_reshaped = np.transpose(result, [2, 0, 1])"
   ]
  },
  {
   "cell_type": "code",
   "execution_count": 17,
   "id": "cce38763-b0e7-4e2f-8e71-fac4fafe2342",
   "metadata": {},
   "outputs": [
    {
     "data": {
      "text/plain": [
       "'\\n@interact(V=(0, 3))\\ndef plot(V):\\n    fig, ax = plt.subplots(subplot_kw={\"projection\": \"3d\"}, figsize=(12, 10))\\n    surf = ax.plot_trisurf(x.flat, y.flat, eigenvalues_function_list[0](x, y, V).flat, cmap=\\'coolwarm\\')\\n    fig.colorbar(surf, ax=ax, shrink=0.5, aspect=5)\\n    ax.view_init(elev=30, azim=160)\\n    plt.show()\\n    return\\n'"
      ]
     },
     "execution_count": 17,
     "metadata": {},
     "output_type": "execute_result"
    }
   ],
   "source": [
    "\"\"\"\n",
    "@interact(V=(0, 3))\n",
    "def plot(V):\n",
    "    fig, ax = plt.subplots(subplot_kw={\"projection\": \"3d\"}, figsize=(12, 10))\n",
    "    surf = ax.plot_trisurf(x.flat, y.flat, eigenvalues_function_list[0](x, y, V).flat, cmap='coolwarm')\n",
    "    fig.colorbar(surf, ax=ax, shrink=0.5, aspect=5)\n",
    "    ax.view_init(elev=30, azim=160)\n",
    "    plt.show()\n",
    "    return\n",
    "\"\"\""
   ]
  },
  {
   "cell_type": "code",
   "execution_count": null,
   "id": "06894c46-00e9-465d-bae0-2115284bdb97",
   "metadata": {},
   "outputs": [],
   "source": []
  }
 ],
 "metadata": {
  "kernelspec": {
   "display_name": "Python 3 (ipykernel)",
   "language": "python",
   "name": "python3"
  },
  "language_info": {
   "codemirror_mode": {
    "name": "ipython",
    "version": 3
   },
   "file_extension": ".py",
   "mimetype": "text/x-python",
   "name": "python",
   "nbconvert_exporter": "python",
   "pygments_lexer": "ipython3",
   "version": "3.11.2"
  }
 },
 "nbformat": 4,
 "nbformat_minor": 5
}
